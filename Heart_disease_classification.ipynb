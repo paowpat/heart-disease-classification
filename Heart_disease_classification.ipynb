{
  "nbformat": 4,
  "nbformat_minor": 0,
  "metadata": {
    "colab": {
      "provenance": [],
      "collapsed_sections": []
    },
    "kernelspec": {
      "name": "python3",
      "display_name": "Python 3"
    },
    "language_info": {
      "name": "python"
    }
  },
  "cells": [
    {
      "cell_type": "markdown",
      "source": [
        "# Project: Heart Disease Classification\n",
        "\n",
        "## Objective\n",
        "- To predict whether the patient has Cardiovascular Disease (heart disease).\n",
        "\n",
        "## Dataset\n",
        "- The information of the patient from Cleveland, Hungarian, Switzerland, and Long Beach VA which those databases can be found from UCI Machine Learning Repository: https://archive.ics.uci.edu/ml/machine-learning-databases/heart-disease/.\n",
        "- The dataset can be downloaded at https://www.kaggle.com/datasets/fedesoriano/heart-failure-prediction.\n",
        "\n",
        "**heart**\n",
        "- This table contains the information about the patient who have a high risk having a heart disease.\n",
        "- Here is the description of all columns.\n",
        "\n",
        "| Column Name                     | Criteria |\n",
        "|---------------------------------|---------------------------------------------------------------------------------------------------------------------------------------------------------------------------------|\n",
        "| Age                             | Integer, age of the patient (year). |\n",
        "| Sex                             | Character, gender of the patient. (Male [M] or Female [F]) |\n",
        "| ChestPainType                   | Character, type of the chest pain. (Typical Angina [TA], Atypical Angina [ATA], Non-Anginal Pain [NAP], Asymptomatic [ASY]) |\n",
        "| RestingBP                       | Integer, resting blood pressure (mmHg).  |\n",
        "| Cholesterol                     | Integer, serum cholesterol (mm/dl). |\n",
        "| FastingBS                       | Integer, fasting blood pressure. (FastingBS > 120 mg/dl [1] or otherwise [0]) |\n",
        "| RestingECG                      | Character, resting electrocardiogram results. (Normal [Normal], Having ST-T wave abnormality [ST], showing left ventricular hypertrophy [LVH]) |\n",
        "| MaxHR                           | Integer, maximum heart rate achieved. |\n",
        "| ExerciseAngina                  | Character, exercise-induced angina. (Yes [Y] or No [N]) |\n",
        "| Oldpeak                         | Numeric, ST oldpeak value measured in depression. |\n",
        "| ST_Slope                        | Character, the slope of the peak exercise ST segment. (Up, Flat, or Down) |\n",
        "| HeartDisease                    | Numeric, output class. (Heart disease [1], Normal [0]) |\n"
      ],
      "metadata": {
        "id": "UK_YE5oHDKP0"
      }
    },
    {
      "cell_type": "code",
      "execution_count": null,
      "metadata": {
        "id": "VkhtVhi63lZv"
      },
      "outputs": [],
      "source": [
        "# Import all libraries required for the project\n",
        "import pandas as pd\n",
        "import numpy as np\n",
        "import matplotlib.pyplot as plt\n",
        "import seaborn as sns\n",
        "from sklearn.preprocessing import StandardScaler\n",
        "from sklearn.preprocessing import OneHotEncoder\n",
        "from sklearn.compose import ColumnTransformer\n",
        "from sklearn.pipeline import Pipeline\n",
        "from sklearn.neighbors import KNeighborsClassifier\n",
        "from sklearn.linear_model import LogisticRegression\n",
        "from sklearn.tree import DecisionTreeClassifier\n",
        "from sklearn.ensemble import RandomForestClassifier\n",
        "from sklearn.model_selection import train_test_split\n",
        "from sklearn.model_selection import KFold\n",
        "from sklearn.model_selection import GridSearchCV\n",
        "from sklearn.metrics import accuracy_score\n",
        "from sklearn.metrics import classification_report\n",
        "from sklearn.metrics import recall_score\n",
        "from sklearn.metrics import confusion_matrix\n",
        "from sklearn.metrics import roc_curve\n",
        "from sklearn.metrics import roc_auc_score"
      ]
    },
    {
      "cell_type": "markdown",
      "source": [
        "### 1. Import the Data"
      ],
      "metadata": {
        "id": "TvndIZrrQE43"
      }
    },
    {
      "cell_type": "code",
      "source": [
        "# Import the dataset\n",
        "heart = pd.read_csv('./data/heart.csv')"
      ],
      "metadata": {
        "id": "eo2NUgKe4lKC"
      },
      "execution_count": null,
      "outputs": []
    },
    {
      "cell_type": "code",
      "source": [
        "# View the first rows of the dataset\n",
        "heart.head()"
      ],
      "metadata": {
        "colab": {
          "base_uri": "https://localhost:8080/",
          "height": 270
        },
        "id": "yEM3YM-D4lon",
        "outputId": "611f4984-0818-442a-d061-d4dfcdcda4ae"
      },
      "execution_count": null,
      "outputs": [
        {
          "output_type": "execute_result",
          "data": {
            "text/plain": [
              "   Age Sex ChestPainType  RestingBP  Cholesterol  FastingBS RestingECG  MaxHR  \\\n",
              "0   40   M           ATA        140          289          0     Normal    172   \n",
              "1   49   F           NAP        160          180          0     Normal    156   \n",
              "2   37   M           ATA        130          283          0         ST     98   \n",
              "3   48   F           ASY        138          214          0     Normal    108   \n",
              "4   54   M           NAP        150          195          0     Normal    122   \n",
              "\n",
              "  ExerciseAngina  Oldpeak ST_Slope  HeartDisease  \n",
              "0              N      0.0       Up             0  \n",
              "1              N      1.0     Flat             1  \n",
              "2              N      0.0       Up             0  \n",
              "3              Y      1.5     Flat             1  \n",
              "4              N      0.0       Up             0  "
            ],
            "text/html": [
              "\n",
              "  <div id=\"df-cfd50711-dce1-4d3c-b798-b0b295532c41\">\n",
              "    <div class=\"colab-df-container\">\n",
              "      <div>\n",
              "<style scoped>\n",
              "    .dataframe tbody tr th:only-of-type {\n",
              "        vertical-align: middle;\n",
              "    }\n",
              "\n",
              "    .dataframe tbody tr th {\n",
              "        vertical-align: top;\n",
              "    }\n",
              "\n",
              "    .dataframe thead th {\n",
              "        text-align: right;\n",
              "    }\n",
              "</style>\n",
              "<table border=\"1\" class=\"dataframe\">\n",
              "  <thead>\n",
              "    <tr style=\"text-align: right;\">\n",
              "      <th></th>\n",
              "      <th>Age</th>\n",
              "      <th>Sex</th>\n",
              "      <th>ChestPainType</th>\n",
              "      <th>RestingBP</th>\n",
              "      <th>Cholesterol</th>\n",
              "      <th>FastingBS</th>\n",
              "      <th>RestingECG</th>\n",
              "      <th>MaxHR</th>\n",
              "      <th>ExerciseAngina</th>\n",
              "      <th>Oldpeak</th>\n",
              "      <th>ST_Slope</th>\n",
              "      <th>HeartDisease</th>\n",
              "    </tr>\n",
              "  </thead>\n",
              "  <tbody>\n",
              "    <tr>\n",
              "      <th>0</th>\n",
              "      <td>40</td>\n",
              "      <td>M</td>\n",
              "      <td>ATA</td>\n",
              "      <td>140</td>\n",
              "      <td>289</td>\n",
              "      <td>0</td>\n",
              "      <td>Normal</td>\n",
              "      <td>172</td>\n",
              "      <td>N</td>\n",
              "      <td>0.0</td>\n",
              "      <td>Up</td>\n",
              "      <td>0</td>\n",
              "    </tr>\n",
              "    <tr>\n",
              "      <th>1</th>\n",
              "      <td>49</td>\n",
              "      <td>F</td>\n",
              "      <td>NAP</td>\n",
              "      <td>160</td>\n",
              "      <td>180</td>\n",
              "      <td>0</td>\n",
              "      <td>Normal</td>\n",
              "      <td>156</td>\n",
              "      <td>N</td>\n",
              "      <td>1.0</td>\n",
              "      <td>Flat</td>\n",
              "      <td>1</td>\n",
              "    </tr>\n",
              "    <tr>\n",
              "      <th>2</th>\n",
              "      <td>37</td>\n",
              "      <td>M</td>\n",
              "      <td>ATA</td>\n",
              "      <td>130</td>\n",
              "      <td>283</td>\n",
              "      <td>0</td>\n",
              "      <td>ST</td>\n",
              "      <td>98</td>\n",
              "      <td>N</td>\n",
              "      <td>0.0</td>\n",
              "      <td>Up</td>\n",
              "      <td>0</td>\n",
              "    </tr>\n",
              "    <tr>\n",
              "      <th>3</th>\n",
              "      <td>48</td>\n",
              "      <td>F</td>\n",
              "      <td>ASY</td>\n",
              "      <td>138</td>\n",
              "      <td>214</td>\n",
              "      <td>0</td>\n",
              "      <td>Normal</td>\n",
              "      <td>108</td>\n",
              "      <td>Y</td>\n",
              "      <td>1.5</td>\n",
              "      <td>Flat</td>\n",
              "      <td>1</td>\n",
              "    </tr>\n",
              "    <tr>\n",
              "      <th>4</th>\n",
              "      <td>54</td>\n",
              "      <td>M</td>\n",
              "      <td>NAP</td>\n",
              "      <td>150</td>\n",
              "      <td>195</td>\n",
              "      <td>0</td>\n",
              "      <td>Normal</td>\n",
              "      <td>122</td>\n",
              "      <td>N</td>\n",
              "      <td>0.0</td>\n",
              "      <td>Up</td>\n",
              "      <td>0</td>\n",
              "    </tr>\n",
              "  </tbody>\n",
              "</table>\n",
              "</div>\n",
              "      <button class=\"colab-df-convert\" onclick=\"convertToInteractive('df-cfd50711-dce1-4d3c-b798-b0b295532c41')\"\n",
              "              title=\"Convert this dataframe to an interactive table.\"\n",
              "              style=\"display:none;\">\n",
              "        \n",
              "  <svg xmlns=\"http://www.w3.org/2000/svg\" height=\"24px\"viewBox=\"0 0 24 24\"\n",
              "       width=\"24px\">\n",
              "    <path d=\"M0 0h24v24H0V0z\" fill=\"none\"/>\n",
              "    <path d=\"M18.56 5.44l.94 2.06.94-2.06 2.06-.94-2.06-.94-.94-2.06-.94 2.06-2.06.94zm-11 1L8.5 8.5l.94-2.06 2.06-.94-2.06-.94L8.5 2.5l-.94 2.06-2.06.94zm10 10l.94 2.06.94-2.06 2.06-.94-2.06-.94-.94-2.06-.94 2.06-2.06.94z\"/><path d=\"M17.41 7.96l-1.37-1.37c-.4-.4-.92-.59-1.43-.59-.52 0-1.04.2-1.43.59L10.3 9.45l-7.72 7.72c-.78.78-.78 2.05 0 2.83L4 21.41c.39.39.9.59 1.41.59.51 0 1.02-.2 1.41-.59l7.78-7.78 2.81-2.81c.8-.78.8-2.07 0-2.86zM5.41 20L4 18.59l7.72-7.72 1.47 1.35L5.41 20z\"/>\n",
              "  </svg>\n",
              "      </button>\n",
              "      \n",
              "  <style>\n",
              "    .colab-df-container {\n",
              "      display:flex;\n",
              "      flex-wrap:wrap;\n",
              "      gap: 12px;\n",
              "    }\n",
              "\n",
              "    .colab-df-convert {\n",
              "      background-color: #E8F0FE;\n",
              "      border: none;\n",
              "      border-radius: 50%;\n",
              "      cursor: pointer;\n",
              "      display: none;\n",
              "      fill: #1967D2;\n",
              "      height: 32px;\n",
              "      padding: 0 0 0 0;\n",
              "      width: 32px;\n",
              "    }\n",
              "\n",
              "    .colab-df-convert:hover {\n",
              "      background-color: #E2EBFA;\n",
              "      box-shadow: 0px 1px 2px rgba(60, 64, 67, 0.3), 0px 1px 3px 1px rgba(60, 64, 67, 0.15);\n",
              "      fill: #174EA6;\n",
              "    }\n",
              "\n",
              "    [theme=dark] .colab-df-convert {\n",
              "      background-color: #3B4455;\n",
              "      fill: #D2E3FC;\n",
              "    }\n",
              "\n",
              "    [theme=dark] .colab-df-convert:hover {\n",
              "      background-color: #434B5C;\n",
              "      box-shadow: 0px 1px 3px 1px rgba(0, 0, 0, 0.15);\n",
              "      filter: drop-shadow(0px 1px 2px rgba(0, 0, 0, 0.3));\n",
              "      fill: #FFFFFF;\n",
              "    }\n",
              "  </style>\n",
              "\n",
              "      <script>\n",
              "        const buttonEl =\n",
              "          document.querySelector('#df-cfd50711-dce1-4d3c-b798-b0b295532c41 button.colab-df-convert');\n",
              "        buttonEl.style.display =\n",
              "          google.colab.kernel.accessAllowed ? 'block' : 'none';\n",
              "\n",
              "        async function convertToInteractive(key) {\n",
              "          const element = document.querySelector('#df-cfd50711-dce1-4d3c-b798-b0b295532c41');\n",
              "          const dataTable =\n",
              "            await google.colab.kernel.invokeFunction('convertToInteractive',\n",
              "                                                     [key], {});\n",
              "          if (!dataTable) return;\n",
              "\n",
              "          const docLinkHtml = 'Like what you see? Visit the ' +\n",
              "            '<a target=\"_blank\" href=https://colab.research.google.com/notebooks/data_table.ipynb>data table notebook</a>'\n",
              "            + ' to learn more about interactive tables.';\n",
              "          element.innerHTML = '';\n",
              "          dataTable['output_type'] = 'display_data';\n",
              "          await google.colab.output.renderOutput(dataTable, element);\n",
              "          const docLink = document.createElement('div');\n",
              "          docLink.innerHTML = docLinkHtml;\n",
              "          element.appendChild(docLink);\n",
              "        }\n",
              "      </script>\n",
              "    </div>\n",
              "  </div>\n",
              "  "
            ]
          },
          "metadata": {},
          "execution_count": 3
        }
      ]
    },
    {
      "cell_type": "code",
      "source": [
        "# General information\n",
        "heart.info()"
      ],
      "metadata": {
        "colab": {
          "base_uri": "https://localhost:8080/"
        },
        "id": "Q07RrkPzRHFW",
        "outputId": "d48a083e-8c18-4f26-ea0f-2d407deaf16c"
      },
      "execution_count": null,
      "outputs": [
        {
          "output_type": "stream",
          "name": "stdout",
          "text": [
            "<class 'pandas.core.frame.DataFrame'>\n",
            "RangeIndex: 918 entries, 0 to 917\n",
            "Data columns (total 12 columns):\n",
            " #   Column          Non-Null Count  Dtype  \n",
            "---  ------          --------------  -----  \n",
            " 0   Age             918 non-null    int64  \n",
            " 1   Sex             918 non-null    object \n",
            " 2   ChestPainType   918 non-null    object \n",
            " 3   RestingBP       918 non-null    int64  \n",
            " 4   Cholesterol     918 non-null    int64  \n",
            " 5   FastingBS       918 non-null    int64  \n",
            " 6   RestingECG      918 non-null    object \n",
            " 7   MaxHR           918 non-null    int64  \n",
            " 8   ExerciseAngina  918 non-null    object \n",
            " 9   Oldpeak         918 non-null    float64\n",
            " 10  ST_Slope        918 non-null    object \n",
            " 11  HeartDisease    918 non-null    int64  \n",
            "dtypes: float64(1), int64(6), object(5)\n",
            "memory usage: 86.2+ KB\n"
          ]
        }
      ]
    },
    {
      "cell_type": "code",
      "source": [
        "# The number of rows and columns\n",
        "print('The dataset contains: {} rows, {} columns'.format(heart.shape[0], heart.shape[1]))"
      ],
      "metadata": {
        "colab": {
          "base_uri": "https://localhost:8080/"
        },
        "id": "-tw5RcfyRA9e",
        "outputId": "1533bb42-1288-48fd-c9fd-4fd4e143f1c8"
      },
      "execution_count": null,
      "outputs": [
        {
          "output_type": "stream",
          "name": "stdout",
          "text": [
            "The dataset contains: 918 rows, 12 columns\n"
          ]
        }
      ]
    },
    {
      "cell_type": "code",
      "source": [
        "# The data type in each column\n",
        "heart.dtypes"
      ],
      "metadata": {
        "colab": {
          "base_uri": "https://localhost:8080/"
        },
        "id": "qC_MIUuNTJD2",
        "outputId": "24a78d90-4ba9-4c8c-9b2b-d3965decf01e"
      },
      "execution_count": null,
      "outputs": [
        {
          "output_type": "execute_result",
          "data": {
            "text/plain": [
              "Age                 int64\n",
              "Sex                object\n",
              "ChestPainType      object\n",
              "RestingBP           int64\n",
              "Cholesterol         int64\n",
              "FastingBS           int64\n",
              "RestingECG         object\n",
              "MaxHR               int64\n",
              "ExerciseAngina     object\n",
              "Oldpeak           float64\n",
              "ST_Slope           object\n",
              "HeartDisease        int64\n",
              "dtype: object"
            ]
          },
          "metadata": {},
          "execution_count": 6
        }
      ]
    },
    {
      "cell_type": "code",
      "source": [
        "# Number of unique values\n",
        "heart.nunique()"
      ],
      "metadata": {
        "colab": {
          "base_uri": "https://localhost:8080/"
        },
        "id": "vMYR-Io140Ez",
        "outputId": "cae725c3-6766-4832-9d8d-a1c171aa9e7a"
      },
      "execution_count": null,
      "outputs": [
        {
          "output_type": "execute_result",
          "data": {
            "text/plain": [
              "Age                50\n",
              "Sex                 2\n",
              "ChestPainType       4\n",
              "RestingBP          67\n",
              "Cholesterol       222\n",
              "FastingBS           2\n",
              "RestingECG          3\n",
              "MaxHR             119\n",
              "ExerciseAngina      2\n",
              "Oldpeak            53\n",
              "ST_Slope            3\n",
              "HeartDisease        2\n",
              "dtype: int64"
            ]
          },
          "metadata": {},
          "execution_count": 7
        }
      ]
    },
    {
      "cell_type": "code",
      "source": [
        "# Check for duplicated value\n",
        "print('There is {} duplicated rows.'.format(heart.duplicated().sum()))"
      ],
      "metadata": {
        "id": "xevszWoK7tC1",
        "colab": {
          "base_uri": "https://localhost:8080/"
        },
        "outputId": "d4043761-54ee-4551-8a7e-d76270c0c323"
      },
      "execution_count": null,
      "outputs": [
        {
          "output_type": "stream",
          "name": "stdout",
          "text": [
            "There is 0 duplicated rows.\n"
          ]
        }
      ]
    },
    {
      "cell_type": "code",
      "source": [
        "# Check for missing values\n",
        "heart.isna().sum()"
      ],
      "metadata": {
        "colab": {
          "base_uri": "https://localhost:8080/"
        },
        "id": "SfSiAJ56TwUA",
        "outputId": "44c1a343-4afb-4023-b4f5-6479200bc5e1"
      },
      "execution_count": null,
      "outputs": [
        {
          "output_type": "execute_result",
          "data": {
            "text/plain": [
              "Age               0\n",
              "Sex               0\n",
              "ChestPainType     0\n",
              "RestingBP         0\n",
              "Cholesterol       0\n",
              "FastingBS         0\n",
              "RestingECG        0\n",
              "MaxHR             0\n",
              "ExerciseAngina    0\n",
              "Oldpeak           0\n",
              "ST_Slope          0\n",
              "HeartDisease      0\n",
              "dtype: int64"
            ]
          },
          "metadata": {},
          "execution_count": 9
        }
      ]
    },
    {
      "cell_type": "markdown",
      "source": [
        "### 2. Clean the Data"
      ],
      "metadata": {
        "id": "GyGE9tLfc6WR"
      }
    },
    {
      "cell_type": "code",
      "source": [
        "# Change the data type of FastingBS and HeartDisease to 'category'\n",
        "heart.FastingBS = heart.FastingBS.astype('category')\n",
        "heart.HeartDisease = heart.HeartDisease.astype('category')\n",
        "# Recheck the data type\n",
        "heart.dtypes"
      ],
      "metadata": {
        "colab": {
          "base_uri": "https://localhost:8080/"
        },
        "id": "e_F1xn8Pc69T",
        "outputId": "e4584967-d0f5-46e7-a180-0caf6fce1cf4"
      },
      "execution_count": null,
      "outputs": [
        {
          "output_type": "execute_result",
          "data": {
            "text/plain": [
              "Age                  int64\n",
              "Sex                 object\n",
              "ChestPainType       object\n",
              "RestingBP            int64\n",
              "Cholesterol          int64\n",
              "FastingBS         category\n",
              "RestingECG          object\n",
              "MaxHR                int64\n",
              "ExerciseAngina      object\n",
              "Oldpeak            float64\n",
              "ST_Slope            object\n",
              "HeartDisease      category\n",
              "dtype: object"
            ]
          },
          "metadata": {},
          "execution_count": 10
        }
      ]
    },
    {
      "cell_type": "markdown",
      "source": [
        "### Data Validation\n",
        "**OBSERVATION**\n",
        "- The imported dataset contains 918 rows, 12 columns.\n",
        "- Among 12 columns, there are 5 numerical and 7 categorical variables.\n",
        "- The data has neither missing values nor duplicated rows.\n",
        "\n",
        "**DATA CLEANING**\n",
        "- Change the data type of FastingBS and HeartDisease to 'category'."
      ],
      "metadata": {
        "id": "SRLJv9WMWfTN"
      }
    },
    {
      "cell_type": "markdown",
      "source": [
        "### 3. Exploratory Data Analysis"
      ],
      "metadata": {
        "id": "z4l8xaxLZ8dj"
      }
    },
    {
      "cell_type": "code",
      "source": [
        "# Descriptive Statistics\n",
        "heart.describe().transpose()"
      ],
      "metadata": {
        "colab": {
          "base_uri": "https://localhost:8080/",
          "height": 206
        },
        "id": "EX8n7NXITw5v",
        "outputId": "3a6c6b34-6426-42aa-d2b5-c353621c18ef"
      },
      "execution_count": null,
      "outputs": [
        {
          "output_type": "execute_result",
          "data": {
            "text/plain": [
              "             count        mean         std   min     25%    50%    75%    max\n",
              "Age          918.0   53.510893    9.432617  28.0   47.00   54.0   60.0   77.0\n",
              "RestingBP    918.0  132.396514   18.514154   0.0  120.00  130.0  140.0  200.0\n",
              "Cholesterol  918.0  198.799564  109.384145   0.0  173.25  223.0  267.0  603.0\n",
              "MaxHR        918.0  136.809368   25.460334  60.0  120.00  138.0  156.0  202.0\n",
              "Oldpeak      918.0    0.887364    1.066570  -2.6    0.00    0.6    1.5    6.2"
            ],
            "text/html": [
              "\n",
              "  <div id=\"df-6036a59b-02fc-4ca0-be91-263197962410\">\n",
              "    <div class=\"colab-df-container\">\n",
              "      <div>\n",
              "<style scoped>\n",
              "    .dataframe tbody tr th:only-of-type {\n",
              "        vertical-align: middle;\n",
              "    }\n",
              "\n",
              "    .dataframe tbody tr th {\n",
              "        vertical-align: top;\n",
              "    }\n",
              "\n",
              "    .dataframe thead th {\n",
              "        text-align: right;\n",
              "    }\n",
              "</style>\n",
              "<table border=\"1\" class=\"dataframe\">\n",
              "  <thead>\n",
              "    <tr style=\"text-align: right;\">\n",
              "      <th></th>\n",
              "      <th>count</th>\n",
              "      <th>mean</th>\n",
              "      <th>std</th>\n",
              "      <th>min</th>\n",
              "      <th>25%</th>\n",
              "      <th>50%</th>\n",
              "      <th>75%</th>\n",
              "      <th>max</th>\n",
              "    </tr>\n",
              "  </thead>\n",
              "  <tbody>\n",
              "    <tr>\n",
              "      <th>Age</th>\n",
              "      <td>918.0</td>\n",
              "      <td>53.510893</td>\n",
              "      <td>9.432617</td>\n",
              "      <td>28.0</td>\n",
              "      <td>47.00</td>\n",
              "      <td>54.0</td>\n",
              "      <td>60.0</td>\n",
              "      <td>77.0</td>\n",
              "    </tr>\n",
              "    <tr>\n",
              "      <th>RestingBP</th>\n",
              "      <td>918.0</td>\n",
              "      <td>132.396514</td>\n",
              "      <td>18.514154</td>\n",
              "      <td>0.0</td>\n",
              "      <td>120.00</td>\n",
              "      <td>130.0</td>\n",
              "      <td>140.0</td>\n",
              "      <td>200.0</td>\n",
              "    </tr>\n",
              "    <tr>\n",
              "      <th>Cholesterol</th>\n",
              "      <td>918.0</td>\n",
              "      <td>198.799564</td>\n",
              "      <td>109.384145</td>\n",
              "      <td>0.0</td>\n",
              "      <td>173.25</td>\n",
              "      <td>223.0</td>\n",
              "      <td>267.0</td>\n",
              "      <td>603.0</td>\n",
              "    </tr>\n",
              "    <tr>\n",
              "      <th>MaxHR</th>\n",
              "      <td>918.0</td>\n",
              "      <td>136.809368</td>\n",
              "      <td>25.460334</td>\n",
              "      <td>60.0</td>\n",
              "      <td>120.00</td>\n",
              "      <td>138.0</td>\n",
              "      <td>156.0</td>\n",
              "      <td>202.0</td>\n",
              "    </tr>\n",
              "    <tr>\n",
              "      <th>Oldpeak</th>\n",
              "      <td>918.0</td>\n",
              "      <td>0.887364</td>\n",
              "      <td>1.066570</td>\n",
              "      <td>-2.6</td>\n",
              "      <td>0.00</td>\n",
              "      <td>0.6</td>\n",
              "      <td>1.5</td>\n",
              "      <td>6.2</td>\n",
              "    </tr>\n",
              "  </tbody>\n",
              "</table>\n",
              "</div>\n",
              "      <button class=\"colab-df-convert\" onclick=\"convertToInteractive('df-6036a59b-02fc-4ca0-be91-263197962410')\"\n",
              "              title=\"Convert this dataframe to an interactive table.\"\n",
              "              style=\"display:none;\">\n",
              "        \n",
              "  <svg xmlns=\"http://www.w3.org/2000/svg\" height=\"24px\"viewBox=\"0 0 24 24\"\n",
              "       width=\"24px\">\n",
              "    <path d=\"M0 0h24v24H0V0z\" fill=\"none\"/>\n",
              "    <path d=\"M18.56 5.44l.94 2.06.94-2.06 2.06-.94-2.06-.94-.94-2.06-.94 2.06-2.06.94zm-11 1L8.5 8.5l.94-2.06 2.06-.94-2.06-.94L8.5 2.5l-.94 2.06-2.06.94zm10 10l.94 2.06.94-2.06 2.06-.94-2.06-.94-.94-2.06-.94 2.06-2.06.94z\"/><path d=\"M17.41 7.96l-1.37-1.37c-.4-.4-.92-.59-1.43-.59-.52 0-1.04.2-1.43.59L10.3 9.45l-7.72 7.72c-.78.78-.78 2.05 0 2.83L4 21.41c.39.39.9.59 1.41.59.51 0 1.02-.2 1.41-.59l7.78-7.78 2.81-2.81c.8-.78.8-2.07 0-2.86zM5.41 20L4 18.59l7.72-7.72 1.47 1.35L5.41 20z\"/>\n",
              "  </svg>\n",
              "      </button>\n",
              "      \n",
              "  <style>\n",
              "    .colab-df-container {\n",
              "      display:flex;\n",
              "      flex-wrap:wrap;\n",
              "      gap: 12px;\n",
              "    }\n",
              "\n",
              "    .colab-df-convert {\n",
              "      background-color: #E8F0FE;\n",
              "      border: none;\n",
              "      border-radius: 50%;\n",
              "      cursor: pointer;\n",
              "      display: none;\n",
              "      fill: #1967D2;\n",
              "      height: 32px;\n",
              "      padding: 0 0 0 0;\n",
              "      width: 32px;\n",
              "    }\n",
              "\n",
              "    .colab-df-convert:hover {\n",
              "      background-color: #E2EBFA;\n",
              "      box-shadow: 0px 1px 2px rgba(60, 64, 67, 0.3), 0px 1px 3px 1px rgba(60, 64, 67, 0.15);\n",
              "      fill: #174EA6;\n",
              "    }\n",
              "\n",
              "    [theme=dark] .colab-df-convert {\n",
              "      background-color: #3B4455;\n",
              "      fill: #D2E3FC;\n",
              "    }\n",
              "\n",
              "    [theme=dark] .colab-df-convert:hover {\n",
              "      background-color: #434B5C;\n",
              "      box-shadow: 0px 1px 3px 1px rgba(0, 0, 0, 0.15);\n",
              "      filter: drop-shadow(0px 1px 2px rgba(0, 0, 0, 0.3));\n",
              "      fill: #FFFFFF;\n",
              "    }\n",
              "  </style>\n",
              "\n",
              "      <script>\n",
              "        const buttonEl =\n",
              "          document.querySelector('#df-6036a59b-02fc-4ca0-be91-263197962410 button.colab-df-convert');\n",
              "        buttonEl.style.display =\n",
              "          google.colab.kernel.accessAllowed ? 'block' : 'none';\n",
              "\n",
              "        async function convertToInteractive(key) {\n",
              "          const element = document.querySelector('#df-6036a59b-02fc-4ca0-be91-263197962410');\n",
              "          const dataTable =\n",
              "            await google.colab.kernel.invokeFunction('convertToInteractive',\n",
              "                                                     [key], {});\n",
              "          if (!dataTable) return;\n",
              "\n",
              "          const docLinkHtml = 'Like what you see? Visit the ' +\n",
              "            '<a target=\"_blank\" href=https://colab.research.google.com/notebooks/data_table.ipynb>data table notebook</a>'\n",
              "            + ' to learn more about interactive tables.';\n",
              "          element.innerHTML = '';\n",
              "          dataTable['output_type'] = 'display_data';\n",
              "          await google.colab.output.renderOutput(dataTable, element);\n",
              "          const docLink = document.createElement('div');\n",
              "          docLink.innerHTML = docLinkHtml;\n",
              "          element.appendChild(docLink);\n",
              "        }\n",
              "      </script>\n",
              "    </div>\n",
              "  </div>\n",
              "  "
            ]
          },
          "metadata": {},
          "execution_count": 11
        }
      ]
    },
    {
      "cell_type": "code",
      "source": [
        "# Visualize the HISTOGRAM of the age of the patients\n",
        "ax = sns.histplot(x='Age', data=heart, bins=20)\n",
        "ax.set(xlabel='Age of the patient', ylabel='Frequency', title='Age distribution')\n",
        "plt.show()"
      ],
      "metadata": {
        "colab": {
          "base_uri": "https://localhost:8080/",
          "height": 295
        },
        "id": "Lidc_YDgc0W_",
        "outputId": "9310e179-f02c-4b59-b878-c62569a3b063"
      },
      "execution_count": null,
      "outputs": [
        {
          "output_type": "display_data",
          "data": {
            "text/plain": [
              "<Figure size 432x288 with 1 Axes>"
            ],
            "image/png": "[encoded data removed]"
          },
          "metadata": {
            "needs_background": "light"
          }
        }
      ]
    },
    {
      "cell_type": "code",
      "source": [
        "# The proportion of heart disease patient\n",
        "heart['HeartDisease'].value_counts(normalize=True)"
      ],
      "metadata": {
        "colab": {
          "base_uri": "https://localhost:8080/"
        },
        "id": "sGBbiVbir5P9",
        "outputId": "fc763b10-0e7c-4e16-ec2c-92cbf09dfefa"
      },
      "execution_count": null,
      "outputs": [
        {
          "output_type": "execute_result",
          "data": {
            "text/plain": [
              "1    0.553377\n",
              "0    0.446623\n",
              "Name: HeartDisease, dtype: float64"
            ]
          },
          "metadata": {},
          "execution_count": 13
        }
      ]
    },
    {
      "cell_type": "code",
      "source": [
        "# Visualize the PIE CHART to see the proportion of heart disease patient\n",
        "heart_disease_class = heart['HeartDisease'].copy()\n",
        "heart_disease_class.replace({1:'Yes', 0:'No'}, inplace=True)\n",
        "ax = heart_disease_class.value_counts().plot.pie(autopct='%1.1f%%', figsize=(8, 6))\n",
        "ax.set(ylabel='Heart disease', title='Percentage of Heart disease')\n",
        "plt.show()"
      ],
      "metadata": {
        "colab": {
          "base_uri": "https://localhost:8080/",
          "height": 373
        },
        "id": "ISQppbMjjSHv",
        "outputId": "ab7a1da1-dc02-4f43-823d-614a183c78bb"
      },
      "execution_count": null,
      "outputs": [
        {
          "output_type": "display_data",
          "data": {
            "text/plain": [
              "<Figure size 576x432 with 1 Axes>"
            ],
            "image/png": "[encoded data removed]"
          },
          "metadata": {}
        }
      ]
    },
    {
      "cell_type": "code",
      "source": [
        "# The average resting blood pressure in each gender\n",
        "heart.groupby('Sex')['RestingBP'].mean()"
      ],
      "metadata": {
        "colab": {
          "base_uri": "https://localhost:8080/"
        },
        "id": "Mo8nas3OsImE",
        "outputId": "328f8278-2150-470b-cf41-174326ea2e82"
      },
      "execution_count": null,
      "outputs": [
        {
          "output_type": "execute_result",
          "data": {
            "text/plain": [
              "Sex\n",
              "F    132.212435\n",
              "M    132.445517\n",
              "Name: RestingBP, dtype: float64"
            ]
          },
          "metadata": {},
          "execution_count": 15
        }
      ]
    },
    {
      "cell_type": "code",
      "source": [
        "# Visualize the BAR CHART to see the average resting blood pressure in each gender\n",
        "ax = sns.barplot(x='Sex', y='RestingBP', data=heart, ci=None)\n",
        "ax.set(xlabel='Gender', ylabel='Average resting blood pressure (mmHg)', title='Resting blood pressure in each gender')\n",
        "plt.show()"
      ],
      "metadata": {
        "colab": {
          "base_uri": "https://localhost:8080/",
          "height": 295
        },
        "id": "B_qWOXTilyyI",
        "outputId": "3026419d-913e-4359-e706-d081b00814bb"
      },
      "execution_count": null,
      "outputs": [
        {
          "output_type": "display_data",
          "data": {
            "text/plain": [
              "<Figure size 432x288 with 1 Axes>"
            ],
            "image/png": "[encoded data removed]"
          },
          "metadata": {
            "needs_background": "light"
          }
        }
      ]
    },
    {
      "cell_type": "code",
      "source": [
        "# Create the column age_group\n",
        "heart_agegroup = heart.copy()\n",
        "heart_agegroup['age_group'] = pd.Series(\n",
        "    np.where(heart_agegroup['Age'] < 40, 'Below 40',\n",
        "             np.where(heart_agegroup['Age'] <= 60, \n",
        "                      'Between 40 and 60', 'Above 60')))\n",
        "# The average resting blood pressure in each age group\n",
        "heart_agegroup.groupby('age_group')['RestingBP'].mean().sort_values()"
      ],
      "metadata": {
        "colab": {
          "base_uri": "https://localhost:8080/"
        },
        "id": "HJhsou1UuFpb",
        "outputId": "85199939-2787-4d41-a4c9-66e46516c065"
      },
      "execution_count": null,
      "outputs": [
        {
          "output_type": "execute_result",
          "data": {
            "text/plain": [
              "age_group\n",
              "Below 40             123.887500\n",
              "Between 40 and 60    131.504052\n",
              "Above 60             137.968326\n",
              "Name: RestingBP, dtype: float64"
            ]
          },
          "metadata": {},
          "execution_count": 17
        }
      ]
    },
    {
      "cell_type": "code",
      "source": [
        "# Visualize the BAR CHART to see the average resting blood pressure in each age group\n",
        "ax = sns.barplot(x='age_group', y='RestingBP', data=heart_agegroup,\n",
        "                 order=['Below 40', 'Between 40 and 60', 'Above 60'], ci=None)\n",
        "ax.set(xlabel='Age group', ylabel='Average resting blood pressure (mmHg)',\n",
        "       title='Resting blood pressure in each age group')\n",
        "plt.show()"
      ],
      "metadata": {
        "colab": {
          "base_uri": "https://localhost:8080/",
          "height": 295
        },
        "id": "2nOS0p1VsstM",
        "outputId": "6bd9bc05-9d8a-47df-f797-8c13831d223e"
      },
      "execution_count": null,
      "outputs": [
        {
          "output_type": "display_data",
          "data": {
            "text/plain": [
              "<Figure size 432x288 with 1 Axes>"
            ],
            "image/png": "[encoded data removed]"
          },
          "metadata": {
            "needs_background": "light"
          }
        }
      ]
    },
    {
      "cell_type": "code",
      "source": [
        "# Visualize the BOXPLOT to see the distribution for each variable\n",
        "numeric_features = ['Age', 'RestingBP', 'Cholesterol', 'MaxHR', 'Oldpeak']\n",
        "ax = sns.boxplot(x='variable', y='value', data=heart[numeric_features].melt())\n",
        "ax.set(xlabel='Numeric variable', ylabel='Distribution', title='The distribution of each numeric variable')\n",
        "plt.show()"
      ],
      "metadata": {
        "colab": {
          "base_uri": "https://localhost:8080/",
          "height": 295
        },
        "id": "0Jj7jYYAgNtZ",
        "outputId": "cacb4dd5-19f7-42b3-ae2c-4577a61ea6b4"
      },
      "execution_count": null,
      "outputs": [
        {
          "output_type": "display_data",
          "data": {
            "text/plain": [
              "<Figure size 432x288 with 1 Axes>"
            ],
            "image/png": "[encoded data removed]"
          },
          "metadata": {
            "needs_background": "light"
          }
        }
      ]
    },
    {
      "cell_type": "code",
      "source": [
        "# Visualize the HEATMAP to observe the correlation between pairs of numerical variables\n",
        "plt.figure(figsize=[20, 10])\n",
        "sns.heatmap(heart.corr(), annot=True, linewidths=0.5, vmin=-1, vmax=1, cmap='vlag')\n",
        "plt.show()"
      ],
      "metadata": {
        "colab": {
          "base_uri": "https://localhost:8080/",
          "height": 492
        },
        "id": "nY2FfeXJez3j",
        "outputId": "471199bc-0154-42aa-bb49-5aa5c1f898df"
      },
      "execution_count": null,
      "outputs": [
        {
          "output_type": "display_data",
          "data": {
            "text/plain": [
              "<Figure size 1440x720 with 2 Axes>"
            ],
            "image/png": "[encoded data removed]"
          },
          "metadata": {
            "needs_background": "light"
          }
        }
      ]
    },
    {
      "cell_type": "markdown",
      "source": [
        "### 4. Preprocess the data\n",
        "- Since each numeric variables are distributed in different scales, they need to be rescaled in order to prevent bias in training the model."
      ],
      "metadata": {
        "id": "Qp9esGm5uqe1"
      }
    },
    {
      "cell_type": "code",
      "source": [
        "heart.head()"
      ],
      "metadata": {
        "colab": {
          "base_uri": "https://localhost:8080/",
          "height": 270
        },
        "id": "whfP5BWSl-2n",
        "outputId": "29ede367-06ba-45fd-f934-9167eaf1464b"
      },
      "execution_count": null,
      "outputs": [
        {
          "output_type": "execute_result",
          "data": {
            "text/plain": [
              "   Age Sex ChestPainType  RestingBP  Cholesterol FastingBS RestingECG  MaxHR  \\\n",
              "0   40   M           ATA        140          289         0     Normal    172   \n",
              "1   49   F           NAP        160          180         0     Normal    156   \n",
              "2   37   M           ATA        130          283         0         ST     98   \n",
              "3   48   F           ASY        138          214         0     Normal    108   \n",
              "4   54   M           NAP        150          195         0     Normal    122   \n",
              "\n",
              "  ExerciseAngina  Oldpeak ST_Slope HeartDisease  \n",
              "0              N      0.0       Up            0  \n",
              "1              N      1.0     Flat            1  \n",
              "2              N      0.0       Up            0  \n",
              "3              Y      1.5     Flat            1  \n",
              "4              N      0.0       Up            0  "
            ],
            "text/html": [
              "\n",
              "  <div id=\"df-7ecf4ff7-221b-44e8-9676-65c22946476a\">\n",
              "    <div class=\"colab-df-container\">\n",
              "      <div>\n",
              "<style scoped>\n",
              "    .dataframe tbody tr th:only-of-type {\n",
              "        vertical-align: middle;\n",
              "    }\n",
              "\n",
              "    .dataframe tbody tr th {\n",
              "        vertical-align: top;\n",
              "    }\n",
              "\n",
              "    .dataframe thead th {\n",
              "        text-align: right;\n",
              "    }\n",
              "</style>\n",
              "<table border=\"1\" class=\"dataframe\">\n",
              "  <thead>\n",
              "    <tr style=\"text-align: right;\">\n",
              "      <th></th>\n",
              "      <th>Age</th>\n",
              "      <th>Sex</th>\n",
              "      <th>ChestPainType</th>\n",
              "      <th>RestingBP</th>\n",
              "      <th>Cholesterol</th>\n",
              "      <th>FastingBS</th>\n",
              "      <th>RestingECG</th>\n",
              "      <th>MaxHR</th>\n",
              "      <th>ExerciseAngina</th>\n",
              "      <th>Oldpeak</th>\n",
              "      <th>ST_Slope</th>\n",
              "      <th>HeartDisease</th>\n",
              "    </tr>\n",
              "  </thead>\n",
              "  <tbody>\n",
              "    <tr>\n",
              "      <th>0</th>\n",
              "      <td>40</td>\n",
              "      <td>M</td>\n",
              "      <td>ATA</td>\n",
              "      <td>140</td>\n",
              "      <td>289</td>\n",
              "      <td>0</td>\n",
              "      <td>Normal</td>\n",
              "      <td>172</td>\n",
              "      <td>N</td>\n",
              "      <td>0.0</td>\n",
              "      <td>Up</td>\n",
              "      <td>0</td>\n",
              "    </tr>\n",
              "    <tr>\n",
              "      <th>1</th>\n",
              "      <td>49</td>\n",
              "      <td>F</td>\n",
              "      <td>NAP</td>\n",
              "      <td>160</td>\n",
              "      <td>180</td>\n",
              "      <td>0</td>\n",
              "      <td>Normal</td>\n",
              "      <td>156</td>\n",
              "      <td>N</td>\n",
              "      <td>1.0</td>\n",
              "      <td>Flat</td>\n",
              "      <td>1</td>\n",
              "    </tr>\n",
              "    <tr>\n",
              "      <th>2</th>\n",
              "      <td>37</td>\n",
              "      <td>M</td>\n",
              "      <td>ATA</td>\n",
              "      <td>130</td>\n",
              "      <td>283</td>\n",
              "      <td>0</td>\n",
              "      <td>ST</td>\n",
              "      <td>98</td>\n",
              "      <td>N</td>\n",
              "      <td>0.0</td>\n",
              "      <td>Up</td>\n",
              "      <td>0</td>\n",
              "    </tr>\n",
              "    <tr>\n",
              "      <th>3</th>\n",
              "      <td>48</td>\n",
              "      <td>F</td>\n",
              "      <td>ASY</td>\n",
              "      <td>138</td>\n",
              "      <td>214</td>\n",
              "      <td>0</td>\n",
              "      <td>Normal</td>\n",
              "      <td>108</td>\n",
              "      <td>Y</td>\n",
              "      <td>1.5</td>\n",
              "      <td>Flat</td>\n",
              "      <td>1</td>\n",
              "    </tr>\n",
              "    <tr>\n",
              "      <th>4</th>\n",
              "      <td>54</td>\n",
              "      <td>M</td>\n",
              "      <td>NAP</td>\n",
              "      <td>150</td>\n",
              "      <td>195</td>\n",
              "      <td>0</td>\n",
              "      <td>Normal</td>\n",
              "      <td>122</td>\n",
              "      <td>N</td>\n",
              "      <td>0.0</td>\n",
              "      <td>Up</td>\n",
              "      <td>0</td>\n",
              "    </tr>\n",
              "  </tbody>\n",
              "</table>\n",
              "</div>\n",
              "      <button class=\"colab-df-convert\" onclick=\"convertToInteractive('df-7ecf4ff7-221b-44e8-9676-65c22946476a')\"\n",
              "              title=\"Convert this dataframe to an interactive table.\"\n",
              "              style=\"display:none;\">\n",
              "        \n",
              "  <svg xmlns=\"http://www.w3.org/2000/svg\" height=\"24px\"viewBox=\"0 0 24 24\"\n",
              "       width=\"24px\">\n",
              "    <path d=\"M0 0h24v24H0V0z\" fill=\"none\"/>\n",
              "    <path d=\"M18.56 5.44l.94 2.06.94-2.06 2.06-.94-2.06-.94-.94-2.06-.94 2.06-2.06.94zm-11 1L8.5 8.5l.94-2.06 2.06-.94-2.06-.94L8.5 2.5l-.94 2.06-2.06.94zm10 10l.94 2.06.94-2.06 2.06-.94-2.06-.94-.94-2.06-.94 2.06-2.06.94z\"/><path d=\"M17.41 7.96l-1.37-1.37c-.4-.4-.92-.59-1.43-.59-.52 0-1.04.2-1.43.59L10.3 9.45l-7.72 7.72c-.78.78-.78 2.05 0 2.83L4 21.41c.39.39.9.59 1.41.59.51 0 1.02-.2 1.41-.59l7.78-7.78 2.81-2.81c.8-.78.8-2.07 0-2.86zM5.41 20L4 18.59l7.72-7.72 1.47 1.35L5.41 20z\"/>\n",
              "  </svg>\n",
              "      </button>\n",
              "      \n",
              "  <style>\n",
              "    .colab-df-container {\n",
              "      display:flex;\n",
              "      flex-wrap:wrap;\n",
              "      gap: 12px;\n",
              "    }\n",
              "\n",
              "    .colab-df-convert {\n",
              "      background-color: #E8F0FE;\n",
              "      border: none;\n",
              "      border-radius: 50%;\n",
              "      cursor: pointer;\n",
              "      display: none;\n",
              "      fill: #1967D2;\n",
              "      height: 32px;\n",
              "      padding: 0 0 0 0;\n",
              "      width: 32px;\n",
              "    }\n",
              "\n",
              "    .colab-df-convert:hover {\n",
              "      background-color: #E2EBFA;\n",
              "      box-shadow: 0px 1px 2px rgba(60, 64, 67, 0.3), 0px 1px 3px 1px rgba(60, 64, 67, 0.15);\n",
              "      fill: #174EA6;\n",
              "    }\n",
              "\n",
              "    [theme=dark] .colab-df-convert {\n",
              "      background-color: #3B4455;\n",
              "      fill: #D2E3FC;\n",
              "    }\n",
              "\n",
              "    [theme=dark] .colab-df-convert:hover {\n",
              "      background-color: #434B5C;\n",
              "      box-shadow: 0px 1px 3px 1px rgba(0, 0, 0, 0.15);\n",
              "      filter: drop-shadow(0px 1px 2px rgba(0, 0, 0, 0.3));\n",
              "      fill: #FFFFFF;\n",
              "    }\n",
              "  </style>\n",
              "\n",
              "      <script>\n",
              "        const buttonEl =\n",
              "          document.querySelector('#df-7ecf4ff7-221b-44e8-9676-65c22946476a button.colab-df-convert');\n",
              "        buttonEl.style.display =\n",
              "          google.colab.kernel.accessAllowed ? 'block' : 'none';\n",
              "\n",
              "        async function convertToInteractive(key) {\n",
              "          const element = document.querySelector('#df-7ecf4ff7-221b-44e8-9676-65c22946476a');\n",
              "          const dataTable =\n",
              "            await google.colab.kernel.invokeFunction('convertToInteractive',\n",
              "                                                     [key], {});\n",
              "          if (!dataTable) return;\n",
              "\n",
              "          const docLinkHtml = 'Like what you see? Visit the ' +\n",
              "            '<a target=\"_blank\" href=https://colab.research.google.com/notebooks/data_table.ipynb>data table notebook</a>'\n",
              "            + ' to learn more about interactive tables.';\n",
              "          element.innerHTML = '';\n",
              "          dataTable['output_type'] = 'display_data';\n",
              "          await google.colab.output.renderOutput(dataTable, element);\n",
              "          const docLink = document.createElement('div');\n",
              "          docLink.innerHTML = docLinkHtml;\n",
              "          element.appendChild(docLink);\n",
              "        }\n",
              "      </script>\n",
              "    </div>\n",
              "  </div>\n",
              "  "
            ]
          },
          "metadata": {},
          "execution_count": 21
        }
      ]
    },
    {
      "cell_type": "code",
      "source": [
        "# Index of the features\n",
        "numeric_features = [0, 3, 4, 7, 9]\n",
        "categorical_features = [1, 2, 5, 6, 8, 10]"
      ],
      "metadata": {
        "id": "8-NsF3oivzS7"
      },
      "execution_count": null,
      "outputs": []
    },
    {
      "cell_type": "code",
      "source": [
        "# Feature Engineering\n",
        "X, y = heart.drop('HeartDisease', axis=1).values, heart['HeartDisease'].values\n",
        "# Split the data to training set and test set\n",
        "X_train, X_test, y_train, y_test = train_test_split(X, y, test_size=0.2, random_state=42)"
      ],
      "metadata": {
        "id": "_Ufgxs4uiyOP"
      },
      "execution_count": null,
      "outputs": []
    },
    {
      "cell_type": "code",
      "source": [
        "# Transform data\n",
        "numeric_transformer = Pipeline(steps=[('scaler', StandardScaler())])\n",
        "categorical_transformer = Pipeline(steps=[('onehot', OneHotEncoder(handle_unknown='ignore'))])\n",
        "\n",
        "# Data Preprocessing\n",
        "data_preprocessor = ColumnTransformer(transformers=[\n",
        "    ('num', numeric_transformer, numeric_features),\n",
        "    ('cat', categorical_transformer, categorical_features)\n",
        "])"
      ],
      "metadata": {
        "id": "4CNF5CkMxcc1"
      },
      "execution_count": null,
      "outputs": []
    },
    {
      "cell_type": "markdown",
      "source": [
        "**SUMMARY**\n",
        "- According to the histogram, the age of the members is within the range of 28 to 77 years with the average of 53 years old.\n",
        "- According to the pie chart, there is 55.3% of all patient who receive positive result.\n",
        "- According to the bar chart, the average resting blood pressure is the same for both Male and Female.\n",
        "- According to the second bar chart, the average resting blood pressure tends to increase as the patient is in the older group.\n",
        "- According to the boxplot, each variables are distributed within different range which may cause BIAS in the training session.\n",
        "- According to the heatmap, we cen tell that there is no strong correlation among the numeric variables.\n",
        "\n",
        "**PREPROCESS THE DATA**\n",
        "- Select the features and target assigned to arrays.\n",
        "- Splited the dataset to training set and test set.\n",
        "- Create pipeline for Data Preprocessing including:\n",
        "  - Standardize the numeric features to scaling the data to the same range.\n",
        "  - Encode the categorical features using OneHotEncoder"
      ],
      "metadata": {
        "id": "yHoxynZPCh7a"
      }
    },
    {
      "cell_type": "markdown",
      "source": [
        "### 5. Model Fitting\n",
        "- Model 1: Logistic Regression\n",
        "- Model 2: K-Nearest Neighbors\n",
        "- Model 3: Decision Tree\n",
        "- Model 4: Random Forest"
      ],
      "metadata": {
        "id": "bfCb4Ndz4uuw"
      }
    },
    {
      "cell_type": "markdown",
      "source": [
        "#### **Model 1: Logistic Regression**"
      ],
      "metadata": {
        "id": "rI73sEpJJPzo"
      }
    },
    {
      "cell_type": "code",
      "source": [
        "# Model 1: Logistic Regression\n",
        "logreg_pipeline = Pipeline(steps=[\n",
        "    ('preprocessor', data_preprocessor), \n",
        "    ('classifier', LogisticRegression())\n",
        "])\n",
        "param_grid = {'classifier__solver': [\"newton-cg\", \"lbfgs\"],\n",
        "         'classifier__C': [0.0001, 0.001, 0.01, 1]}\n",
        "kf = KFold(n_splits=5, shuffle=True, random_state=84)\n",
        "model_cv = GridSearchCV(logreg_pipeline, param_grid=param_grid, cv=kf)"
      ],
      "metadata": {
        "id": "dV9mRnL9yehL"
      },
      "execution_count": null,
      "outputs": []
    },
    {
      "cell_type": "code",
      "source": [
        "# Model Fitting\n",
        "model_cv.fit(X_train, y_train)"
      ],
      "metadata": {
        "colab": {
          "base_uri": "https://localhost:8080/"
        },
        "id": "qqHU1W440O53",
        "outputId": "0148c0f8-7d31-4e86-e16f-4fcfd01c4e83"
      },
      "execution_count": null,
      "outputs": [
        {
          "output_type": "execute_result",
          "data": {
            "text/plain": [
              "GridSearchCV(cv=KFold(n_splits=5, random_state=84, shuffle=True),\n",
              "             estimator=Pipeline(steps=[('preprocessor',\n",
              "                                        ColumnTransformer(transformers=[('num',\n",
              "                                                                         Pipeline(steps=[('scaler',\n",
              "                                                                                          StandardScaler())]),\n",
              "                                                                         [0, 3,\n",
              "                                                                          4, 7,\n",
              "                                                                          9]),\n",
              "                                                                        ('cat',\n",
              "                                                                         Pipeline(steps=[('onehot',\n",
              "                                                                                          OneHotEncoder(handle_unknown='ignore'))]),\n",
              "                                                                         [1, 2,\n",
              "                                                                          5, 6,\n",
              "                                                                          8,\n",
              "                                                                          10])])),\n",
              "                                       ('classifier', LogisticRegression())]),\n",
              "             param_grid={'classifier__C': [0.0001, 0.001, 0.01, 1],\n",
              "                         'classifier__solver': ['newton-cg', 'lbfgs']})"
            ]
          },
          "metadata": {},
          "execution_count": 26
        }
      ]
    },
    {
      "cell_type": "code",
      "source": [
        "model_logreg = model_cv.best_estimator_\n",
        "print('Best hyperparameters: {}'.format(model_cv.best_params_))"
      ],
      "metadata": {
        "colab": {
          "base_uri": "https://localhost:8080/"
        },
        "id": "Vnx3Frix38Nc",
        "outputId": "492c1949-3397-4f11-b434-888b0db6bbb3"
      },
      "execution_count": null,
      "outputs": [
        {
          "output_type": "stream",
          "name": "stdout",
          "text": [
            "Best hyperparameters: {'classifier__C': 1, 'classifier__solver': 'newton-cg'}\n"
          ]
        }
      ]
    },
    {
      "cell_type": "markdown",
      "source": [
        "#### **Model 2: K-Nearest Neighbors**"
      ],
      "metadata": {
        "id": "i0RwaOCZJm9X"
      }
    },
    {
      "cell_type": "code",
      "source": [
        "# Model 2: K-Nearest Neighbors\n",
        "knn_pipeline = Pipeline(steps=[\n",
        "    ('preprocessor', data_preprocessor), \n",
        "    ('classifier', KNeighborsClassifier())\n",
        "])\n",
        "param_grid = {'classifier__n_neighbors': np.arange(1, 11)}\n",
        "kf = KFold(n_splits=5, shuffle=True, random_state=84)\n",
        "model_cv = GridSearchCV(knn_pipeline, param_grid=param_grid, cv=kf)"
      ],
      "metadata": {
        "id": "HjBlpX0K5Gmv"
      },
      "execution_count": null,
      "outputs": []
    },
    {
      "cell_type": "code",
      "source": [
        "# Model Fitting\n",
        "model_cv.fit(X_train, y_train)"
      ],
      "metadata": {
        "colab": {
          "base_uri": "https://localhost:8080/"
        },
        "id": "si68eD1O5iGI",
        "outputId": "14f878f8-9eec-4d0c-ed04-1d212395e632"
      },
      "execution_count": null,
      "outputs": [
        {
          "output_type": "execute_result",
          "data": {
            "text/plain": [
              "GridSearchCV(cv=KFold(n_splits=5, random_state=84, shuffle=True),\n",
              "             estimator=Pipeline(steps=[('preprocessor',\n",
              "                                        ColumnTransformer(transformers=[('num',\n",
              "                                                                         Pipeline(steps=[('scaler',\n",
              "                                                                                          StandardScaler())]),\n",
              "                                                                         [0, 3,\n",
              "                                                                          4, 7,\n",
              "                                                                          9]),\n",
              "                                                                        ('cat',\n",
              "                                                                         Pipeline(steps=[('onehot',\n",
              "                                                                                          OneHotEncoder(handle_unknown='ignore'))]),\n",
              "                                                                         [1, 2,\n",
              "                                                                          5, 6,\n",
              "                                                                          8,\n",
              "                                                                          10])])),\n",
              "                                       ('classifier', KNeighborsClassifier())]),\n",
              "             param_grid={'classifier__n_neighbors': array([ 1,  2,  3,  4,  5,  6,  7,  8,  9, 10])})"
            ]
          },
          "metadata": {},
          "execution_count": 29
        }
      ]
    },
    {
      "cell_type": "code",
      "source": [
        "model_knn = model_cv.best_estimator_\n",
        "print('Best hyperparameters: {}'.format(model_cv.best_params_))"
      ],
      "metadata": {
        "colab": {
          "base_uri": "https://localhost:8080/"
        },
        "id": "vWRNDhjs5iwn",
        "outputId": "5719bb24-cd78-4de9-868a-c96006ff9d03"
      },
      "execution_count": null,
      "outputs": [
        {
          "output_type": "stream",
          "name": "stdout",
          "text": [
            "Best hyperparameters: {'classifier__n_neighbors': 7}\n"
          ]
        }
      ]
    },
    {
      "cell_type": "markdown",
      "source": [
        "#### **Model 3: Decision Tree**"
      ],
      "metadata": {
        "id": "QBOSisPsJrBH"
      }
    },
    {
      "cell_type": "code",
      "source": [
        "# Model 3: Decision Tree\n",
        "tree_pipeline = Pipeline(steps=[\n",
        "    ('preprocessor', data_preprocessor), \n",
        "    ('classifier', DecisionTreeClassifier())\n",
        "])\n",
        "param_grid = {'classifier__criterion': ['gini', 'entropy']}\n",
        "kf = KFold(n_splits=5, shuffle=True, random_state=84)\n",
        "model_cv = GridSearchCV(tree_pipeline, param_grid=param_grid, cv=kf)"
      ],
      "metadata": {
        "id": "NXv1Cikr51Cf"
      },
      "execution_count": null,
      "outputs": []
    },
    {
      "cell_type": "code",
      "source": [
        "# Model Fitting\n",
        "model_cv.fit(X_train, y_train)"
      ],
      "metadata": {
        "colab": {
          "base_uri": "https://localhost:8080/"
        },
        "id": "TJmGXQBr6ULv",
        "outputId": "984e935d-7652-4d4a-ecbf-9135561d2f2e"
      },
      "execution_count": null,
      "outputs": [
        {
          "output_type": "execute_result",
          "data": {
            "text/plain": [
              "GridSearchCV(cv=KFold(n_splits=5, random_state=84, shuffle=True),\n",
              "             estimator=Pipeline(steps=[('preprocessor',\n",
              "                                        ColumnTransformer(transformers=[('num',\n",
              "                                                                         Pipeline(steps=[('scaler',\n",
              "                                                                                          StandardScaler())]),\n",
              "                                                                         [0, 3,\n",
              "                                                                          4, 7,\n",
              "                                                                          9]),\n",
              "                                                                        ('cat',\n",
              "                                                                         Pipeline(steps=[('onehot',\n",
              "                                                                                          OneHotEncoder(handle_unknown='ignore'))]),\n",
              "                                                                         [1, 2,\n",
              "                                                                          5, 6,\n",
              "                                                                          8,\n",
              "                                                                          10])])),\n",
              "                                       ('classifier',\n",
              "                                        DecisionTreeClassifier())]),\n",
              "             param_grid={'classifier__criterion': ['gini', 'entropy']})"
            ]
          },
          "metadata": {},
          "execution_count": 32
        }
      ]
    },
    {
      "cell_type": "code",
      "source": [
        "model_tree = model_cv.best_estimator_\n",
        "print('Best hyperparameters: {}'.format(model_cv.best_params_))"
      ],
      "metadata": {
        "colab": {
          "base_uri": "https://localhost:8080/"
        },
        "id": "X_h_hY2e6Z5e",
        "outputId": "a15720cf-65c1-4b20-9c18-cf401dba98e1"
      },
      "execution_count": null,
      "outputs": [
        {
          "output_type": "stream",
          "name": "stdout",
          "text": [
            "Best hyperparameters: {'classifier__criterion': 'entropy'}\n"
          ]
        }
      ]
    },
    {
      "cell_type": "markdown",
      "source": [
        "#### **Model 4: Random Forest**"
      ],
      "metadata": {
        "id": "zJg3J_euJxu5"
      }
    },
    {
      "cell_type": "code",
      "source": [
        "# Model 4: Random Forest\n",
        "forest_pipeline = Pipeline(steps=[\n",
        "    ('preprocessor', data_preprocessor), \n",
        "    ('classifier', RandomForestClassifier(n_estimators=100))\n",
        "])\n",
        "param_grid = {'classifier__criterion': ['gini', 'entropy']}\n",
        "kf = KFold(n_splits=5, shuffle=True, random_state=84)\n",
        "model_cv = GridSearchCV(forest_pipeline, param_grid=param_grid, cv=kf)"
      ],
      "metadata": {
        "id": "lrNvjtUM6ddP"
      },
      "execution_count": null,
      "outputs": []
    },
    {
      "cell_type": "code",
      "source": [
        "# Model Fitting\n",
        "model_cv.fit(X_train, y_train)"
      ],
      "metadata": {
        "colab": {
          "base_uri": "https://localhost:8080/"
        },
        "id": "tnQ8sWz66n62",
        "outputId": "f19b43fb-91b6-4c35-81d1-0edc7e38d250"
      },
      "execution_count": null,
      "outputs": [
        {
          "output_type": "execute_result",
          "data": {
            "text/plain": [
              "GridSearchCV(cv=KFold(n_splits=5, random_state=84, shuffle=True),\n",
              "             estimator=Pipeline(steps=[('preprocessor',\n",
              "                                        ColumnTransformer(transformers=[('num',\n",
              "                                                                         Pipeline(steps=[('scaler',\n",
              "                                                                                          StandardScaler())]),\n",
              "                                                                         [0, 3,\n",
              "                                                                          4, 7,\n",
              "                                                                          9]),\n",
              "                                                                        ('cat',\n",
              "                                                                         Pipeline(steps=[('onehot',\n",
              "                                                                                          OneHotEncoder(handle_unknown='ignore'))]),\n",
              "                                                                         [1, 2,\n",
              "                                                                          5, 6,\n",
              "                                                                          8,\n",
              "                                                                          10])])),\n",
              "                                       ('classifier',\n",
              "                                        RandomForestClassifier())]),\n",
              "             param_grid={'classifier__criterion': ['gini', 'entropy']})"
            ]
          },
          "metadata": {},
          "execution_count": 35
        }
      ]
    },
    {
      "cell_type": "code",
      "source": [
        "model_forest = model_cv.best_estimator_\n",
        "print('Best hyperparameters: {}'.format(model_cv.best_params_))"
      ],
      "metadata": {
        "colab": {
          "base_uri": "https://localhost:8080/"
        },
        "id": "m8s7k_lD6nyn",
        "outputId": "2bde85ac-efb9-480b-d788-1a190cb9229a"
      },
      "execution_count": null,
      "outputs": [
        {
          "output_type": "stream",
          "name": "stdout",
          "text": [
            "Best hyperparameters: {'classifier__criterion': 'entropy'}\n"
          ]
        }
      ]
    },
    {
      "cell_type": "markdown",
      "source": [
        "**EXPLANATION**\n",
        "- The objective of this work is to predict whether the patient is having a heart disease. Hence, this project is a classification problem.\n",
        "- The model used for training the dataset is including Logistic Regression, K-Nearest Neighbors, Decision Tree, and Random Forest.\n",
        "- 5-Fold Cross Validation is also performed to prevent overfitting on the training set.\n",
        "- Performed the hyperparameter tuning using GridSearchCV to find the optimal hyperparameter which yields the model with the highest accuracy."
      ],
      "metadata": {
        "id": "FhzP7HIBFmzA"
      }
    },
    {
      "cell_type": "markdown",
      "source": [
        "### 6. Model Evaluation\n",
        "- Model 1: Logistic Regression\n",
        "- Model 2: K-Nearest Neighbors\n",
        "- Model 3: Decision Tree\n",
        "- Model 4: Random Forest"
      ],
      "metadata": {
        "id": "4sl80Wkx4-Zh"
      }
    },
    {
      "cell_type": "markdown",
      "source": [
        "#### **Model 1: Logistic Regression**"
      ],
      "metadata": {
        "id": "6V641soVJ5FR"
      }
    },
    {
      "cell_type": "code",
      "source": [
        "# Predict the output based on test data\n",
        "y_pred = model_logreg.predict(X_test)\n",
        "y_pred_prob = model_logreg.predict_proba(X_test)"
      ],
      "metadata": {
        "id": "u3_-0kMr0UQ7"
      },
      "execution_count": null,
      "outputs": []
    },
    {
      "cell_type": "code",
      "source": [
        "# Evaluate the model\n",
        "print('Accuracy: {}'.format(accuracy_score(y_test, y_pred)))\n",
        "print('Confusion Matrix: \\n{}'.format(confusion_matrix(y_test, y_pred)))\n",
        "print('ROC AUC score: {}'.format(roc_auc_score(y_test,y_pred_prob[:,1])))\n",
        "print('\\nClassification Report: \\n{}'.format(classification_report(y_test, y_pred)))"
      ],
      "metadata": {
        "colab": {
          "base_uri": "https://localhost:8080/"
        },
        "id": "JfcFurIs0wm0",
        "outputId": "47cbca51-5a18-4cbc-8d03-c289a4a5effb"
      },
      "execution_count": null,
      "outputs": [
        {
          "output_type": "stream",
          "name": "stdout",
          "text": [
            "Accuracy: 0.8532608695652174\n",
            "Confusion Matrix: \n",
            "[[67 10]\n",
            " [17 90]]\n",
            "ROC AUC score: 0.9270542541570579\n",
            "\n",
            "Classification Report: \n",
            "              precision    recall  f1-score   support\n",
            "\n",
            "           0       0.80      0.87      0.83        77\n",
            "           1       0.90      0.84      0.87       107\n",
            "\n",
            "    accuracy                           0.85       184\n",
            "   macro avg       0.85      0.86      0.85       184\n",
            "weighted avg       0.86      0.85      0.85       184\n",
            "\n"
          ]
        }
      ]
    },
    {
      "cell_type": "code",
      "source": [
        "fpr, tpr, thresholds = roc_curve(y_test, y_pred_prob[:,1])\n",
        "\n",
        "fig = plt.figure(figsize=(6, 6))\n",
        "plt.plot([0, 1], [0, 1], 'k--')\n",
        "plt.plot(fpr, tpr)\n",
        "plt.xlabel('False Positive Rate')\n",
        "plt.ylabel('True Positive Rate')\n",
        "plt.title('Model 1: ROC Curve')\n",
        "plt.show()"
      ],
      "metadata": {
        "colab": {
          "base_uri": "https://localhost:8080/",
          "height": 404
        },
        "id": "TN8qF8r4GHu5",
        "outputId": "f2baa6ca-8212-4886-a3b8-8ef881d24f3b"
      },
      "execution_count": null,
      "outputs": [
        {
          "output_type": "display_data",
          "data": {
            "text/plain": [
              "<Figure size 432x432 with 1 Axes>"
            ],
            "image/png": "[encoded data removed]"
          },
          "metadata": {
            "needs_background": "light"
          }
        }
      ]
    },
    {
      "cell_type": "markdown",
      "source": [
        "#### **Model 2: K-Nearest Neighbors**"
      ],
      "metadata": {
        "id": "6HjRZVkDKDw_"
      }
    },
    {
      "cell_type": "code",
      "source": [
        "# Predict the output based on test data\n",
        "y_pred = model_knn.predict(X_test)\n",
        "y_pred_prob = model_knn.predict_proba(X_test)"
      ],
      "metadata": {
        "id": "AqKmHKai1Bzm"
      },
      "execution_count": null,
      "outputs": []
    },
    {
      "cell_type": "code",
      "source": [
        "# Evaluate the model\n",
        "print('Accuracy: {}'.format(accuracy_score(y_test, y_pred)))\n",
        "print('Confusion Matrix: \\n{}'.format(confusion_matrix(y_test, y_pred)))\n",
        "print('ROC AUC score: {}'.format(roc_auc_score(y_test,y_pred_prob[:,1])))\n",
        "print('\\nClassification Report: \\n{}'.format(classification_report(y_test, y_pred)))"
      ],
      "metadata": {
        "colab": {
          "base_uri": "https://localhost:8080/"
        },
        "id": "sLghhhC27VXT",
        "outputId": "44dced31-4009-498f-b667-3cd2124f9132"
      },
      "execution_count": null,
      "outputs": [
        {
          "output_type": "stream",
          "name": "stdout",
          "text": [
            "Accuracy: 0.8641304347826086\n",
            "Confusion Matrix: \n",
            "[[67 10]\n",
            " [15 92]]\n",
            "ROC AUC score: 0.930877533681272\n",
            "\n",
            "Classification Report: \n",
            "              precision    recall  f1-score   support\n",
            "\n",
            "           0       0.82      0.87      0.84        77\n",
            "           1       0.90      0.86      0.88       107\n",
            "\n",
            "    accuracy                           0.86       184\n",
            "   macro avg       0.86      0.86      0.86       184\n",
            "weighted avg       0.87      0.86      0.86       184\n",
            "\n"
          ]
        }
      ]
    },
    {
      "cell_type": "code",
      "source": [
        "fpr, tpr, thresholds = roc_curve(y_test, y_pred_prob[:,1])\n",
        "\n",
        "fig = plt.figure(figsize=(6, 6))\n",
        "plt.plot([0, 1], [0, 1], 'k--')\n",
        "plt.plot(fpr, tpr)\n",
        "plt.xlabel('False Positive Rate')\n",
        "plt.ylabel('True Positive Rate')\n",
        "plt.title('Model 2: ROC Curve')\n",
        "plt.show()"
      ],
      "metadata": {
        "colab": {
          "base_uri": "https://localhost:8080/",
          "height": 404
        },
        "id": "8L-F3DUYGrG4",
        "outputId": "d90ab917-6409-415d-d889-f4be8f244eb9"
      },
      "execution_count": null,
      "outputs": [
        {
          "output_type": "display_data",
          "data": {
            "text/plain": [
              "<Figure size 432x432 with 1 Axes>"
            ],
            "image/png": "[encoded data removed]"
          },
          "metadata": {
            "needs_background": "light"
          }
        }
      ]
    },
    {
      "cell_type": "markdown",
      "source": [
        "#### **Model 3: Decision Tree**"
      ],
      "metadata": {
        "id": "r3rvsqblKF6m"
      }
    },
    {
      "cell_type": "code",
      "source": [
        "# Predict the output based on test data\n",
        "y_pred = model_tree.predict(X_test)\n",
        "y_pred_prob = model_tree.predict_proba(X_test)"
      ],
      "metadata": {
        "id": "5EyJZzvs7VVe"
      },
      "execution_count": null,
      "outputs": []
    },
    {
      "cell_type": "code",
      "source": [
        "# Evaluate the model\n",
        "print('Accuracy: {}'.format(accuracy_score(y_test, y_pred)))\n",
        "print('Confusion Matrix: \\n{}'.format(confusion_matrix(y_test, y_pred)))\n",
        "print('ROC AUC score: {}'.format(roc_auc_score(y_test,y_pred_prob[:,1])))\n",
        "print('\\nClassification Report: \\n{}'.format(classification_report(y_test, y_pred)))"
      ],
      "metadata": {
        "colab": {
          "base_uri": "https://localhost:8080/"
        },
        "id": "uuxrkgBy7VSv",
        "outputId": "bd830283-3f56-46c5-c235-c96c779cfaa5"
      },
      "execution_count": null,
      "outputs": [
        {
          "output_type": "stream",
          "name": "stdout",
          "text": [
            "Accuracy: 0.7880434782608695\n",
            "Confusion Matrix: \n",
            "[[68  9]\n",
            " [30 77]]\n",
            "ROC AUC score: 0.801371525670591\n",
            "\n",
            "Classification Report: \n",
            "              precision    recall  f1-score   support\n",
            "\n",
            "           0       0.69      0.88      0.78        77\n",
            "           1       0.90      0.72      0.80       107\n",
            "\n",
            "    accuracy                           0.79       184\n",
            "   macro avg       0.79      0.80      0.79       184\n",
            "weighted avg       0.81      0.79      0.79       184\n",
            "\n"
          ]
        }
      ]
    },
    {
      "cell_type": "code",
      "source": [
        "fpr, tpr, thresholds = roc_curve(y_test, y_pred_prob[:,1])\n",
        "\n",
        "fig = plt.figure(figsize=(6, 6))\n",
        "plt.plot([0, 1], [0, 1], 'k--')\n",
        "plt.plot(fpr, tpr)\n",
        "plt.xlabel('False Positive Rate')\n",
        "plt.ylabel('True Positive Rate')\n",
        "plt.title('Model 3: ROC Curve')\n",
        "plt.show()"
      ],
      "metadata": {
        "colab": {
          "base_uri": "https://localhost:8080/",
          "height": 404
        },
        "id": "Y9GduJNVGuw0",
        "outputId": "fa680ea6-1ca9-4d39-8aff-cd3a0a6b0fc3"
      },
      "execution_count": null,
      "outputs": [
        {
          "output_type": "display_data",
          "data": {
            "text/plain": [
              "<Figure size 432x432 with 1 Axes>"
            ],
            "image/png": "[encoded data removed]"
          },
          "metadata": {
            "needs_background": "light"
          }
        }
      ]
    },
    {
      "cell_type": "markdown",
      "source": [
        "#### **Model 4: Random Forest**"
      ],
      "metadata": {
        "id": "XjGHa25ZKIgm"
      }
    },
    {
      "cell_type": "code",
      "source": [
        "# Predict the output based on test data\n",
        "y_pred = model_forest.predict(X_test)\n",
        "y_pred_prob = model_forest.predict_proba(X_test)"
      ],
      "metadata": {
        "id": "bWYjUYzD7VQ2"
      },
      "execution_count": null,
      "outputs": []
    },
    {
      "cell_type": "code",
      "source": [
        "# Evaluate the model\n",
        "print('Accuracy: {}'.format(accuracy_score(y_test, y_pred)))\n",
        "print('Confusion Matrix: \\n{}'.format(confusion_matrix(y_test, y_pred)))\n",
        "print('ROC AUC score: {}'.format(roc_auc_score(y_test,y_pred_prob[:,1])))\n",
        "print('\\nClassification Report: \\n{}'.format(classification_report(y_test, y_pred)))"
      ],
      "metadata": {
        "colab": {
          "base_uri": "https://localhost:8080/"
        },
        "id": "jyVtxScb7VN-",
        "outputId": "d009a7f2-79de-40f2-f39a-cfe12f6873d3"
      },
      "execution_count": null,
      "outputs": [
        {
          "output_type": "stream",
          "name": "stdout",
          "text": [
            "Accuracy: 0.875\n",
            "Confusion Matrix: \n",
            "[[67 10]\n",
            " [13 94]]\n",
            "ROC AUC score: 0.9395557713314723\n",
            "\n",
            "Classification Report: \n",
            "              precision    recall  f1-score   support\n",
            "\n",
            "           0       0.84      0.87      0.85        77\n",
            "           1       0.90      0.88      0.89       107\n",
            "\n",
            "    accuracy                           0.88       184\n",
            "   macro avg       0.87      0.87      0.87       184\n",
            "weighted avg       0.88      0.88      0.88       184\n",
            "\n"
          ]
        }
      ]
    },
    {
      "cell_type": "code",
      "source": [
        "fpr, tpr, thresholds = roc_curve(y_test, y_pred_prob[:,1])\n",
        "\n",
        "fig = plt.figure(figsize=(6, 6))\n",
        "plt.plot([0, 1], [0, 1], 'k--')\n",
        "plt.plot(fpr, tpr)\n",
        "plt.xlabel('False Positive Rate')\n",
        "plt.ylabel('True Positive Rate')\n",
        "plt.title('Model 4: ROC Curve')\n",
        "plt.show()"
      ],
      "metadata": {
        "colab": {
          "base_uri": "https://localhost:8080/",
          "height": 404
        },
        "id": "U_fwEzCnGxG8",
        "outputId": "c4f58f81-e1ec-41df-d56e-c31def282cbe"
      },
      "execution_count": null,
      "outputs": [
        {
          "output_type": "display_data",
          "data": {
            "text/plain": [
              "<Figure size 432x432 with 1 Axes>"
            ],
            "image/png": "[encoded data removed]"
          },
          "metadata": {
            "needs_background": "light"
          }
        }
      ]
    },
    {
      "cell_type": "code",
      "source": [
        "# Compare the recall of each model\n",
        "model_eva_dict = {\n",
        "    'Model': ['LogisticRegression', \n",
        "              'KNeighborsClassifier', \n",
        "              'DecisionTreeClassifier',\n",
        "              'RandomForestClassifier'],\n",
        "    'Recall': [recall_score(y_test, model_logreg.predict(X_test)),\n",
        "                             recall_score(y_test, model_knn.predict(X_test)),\n",
        "                             recall_score(y_test, model_tree.predict(X_test)),\n",
        "                             recall_score(y_test, model_forest.predict(X_test))\n",
        "]}\n",
        "model_compare = pd.DataFrame(model_eva_dict)\n",
        "model_compare.sort_values('Recall', ascending=False).reset_index(drop=True)"
      ],
      "metadata": {
        "colab": {
          "base_uri": "https://localhost:8080/",
          "height": 175
        },
        "id": "L0U4cmHL7VHo",
        "outputId": "4056fdf3-9c2c-4145-f6b4-941dc55e5c9d"
      },
      "execution_count": null,
      "outputs": [
        {
          "output_type": "execute_result",
          "data": {
            "text/plain": [
              "                    Model    Recall\n",
              "0  RandomForestClassifier  0.878505\n",
              "1    KNeighborsClassifier  0.859813\n",
              "2      LogisticRegression  0.841121\n",
              "3  DecisionTreeClassifier  0.719626"
            ],
            "text/html": [
              "\n",
              "  <div id=\"df-3e05d783-b83e-48eb-99b9-f84efd4fb25f\">\n",
              "    <div class=\"colab-df-container\">\n",
              "      <div>\n",
              "<style scoped>\n",
              "    .dataframe tbody tr th:only-of-type {\n",
              "        vertical-align: middle;\n",
              "    }\n",
              "\n",
              "    .dataframe tbody tr th {\n",
              "        vertical-align: top;\n",
              "    }\n",
              "\n",
              "    .dataframe thead th {\n",
              "        text-align: right;\n",
              "    }\n",
              "</style>\n",
              "<table border=\"1\" class=\"dataframe\">\n",
              "  <thead>\n",
              "    <tr style=\"text-align: right;\">\n",
              "      <th></th>\n",
              "      <th>Model</th>\n",
              "      <th>Recall</th>\n",
              "    </tr>\n",
              "  </thead>\n",
              "  <tbody>\n",
              "    <tr>\n",
              "      <th>0</th>\n",
              "      <td>RandomForestClassifier</td>\n",
              "      <td>0.878505</td>\n",
              "    </tr>\n",
              "    <tr>\n",
              "      <th>1</th>\n",
              "      <td>KNeighborsClassifier</td>\n",
              "      <td>0.859813</td>\n",
              "    </tr>\n",
              "    <tr>\n",
              "      <th>2</th>\n",
              "      <td>LogisticRegression</td>\n",
              "      <td>0.841121</td>\n",
              "    </tr>\n",
              "    <tr>\n",
              "      <th>3</th>\n",
              "      <td>DecisionTreeClassifier</td>\n",
              "      <td>0.719626</td>\n",
              "    </tr>\n",
              "  </tbody>\n",
              "</table>\n",
              "</div>\n",
              "      <button class=\"colab-df-convert\" onclick=\"convertToInteractive('df-3e05d783-b83e-48eb-99b9-f84efd4fb25f')\"\n",
              "              title=\"Convert this dataframe to an interactive table.\"\n",
              "              style=\"display:none;\">\n",
              "        \n",
              "  <svg xmlns=\"http://www.w3.org/2000/svg\" height=\"24px\"viewBox=\"0 0 24 24\"\n",
              "       width=\"24px\">\n",
              "    <path d=\"M0 0h24v24H0V0z\" fill=\"none\"/>\n",
              "    <path d=\"M18.56 5.44l.94 2.06.94-2.06 2.06-.94-2.06-.94-.94-2.06-.94 2.06-2.06.94zm-11 1L8.5 8.5l.94-2.06 2.06-.94-2.06-.94L8.5 2.5l-.94 2.06-2.06.94zm10 10l.94 2.06.94-2.06 2.06-.94-2.06-.94-.94-2.06-.94 2.06-2.06.94z\"/><path d=\"M17.41 7.96l-1.37-1.37c-.4-.4-.92-.59-1.43-.59-.52 0-1.04.2-1.43.59L10.3 9.45l-7.72 7.72c-.78.78-.78 2.05 0 2.83L4 21.41c.39.39.9.59 1.41.59.51 0 1.02-.2 1.41-.59l7.78-7.78 2.81-2.81c.8-.78.8-2.07 0-2.86zM5.41 20L4 18.59l7.72-7.72 1.47 1.35L5.41 20z\"/>\n",
              "  </svg>\n",
              "      </button>\n",
              "      \n",
              "  <style>\n",
              "    .colab-df-container {\n",
              "      display:flex;\n",
              "      flex-wrap:wrap;\n",
              "      gap: 12px;\n",
              "    }\n",
              "\n",
              "    .colab-df-convert {\n",
              "      background-color: #E8F0FE;\n",
              "      border: none;\n",
              "      border-radius: 50%;\n",
              "      cursor: pointer;\n",
              "      display: none;\n",
              "      fill: #1967D2;\n",
              "      height: 32px;\n",
              "      padding: 0 0 0 0;\n",
              "      width: 32px;\n",
              "    }\n",
              "\n",
              "    .colab-df-convert:hover {\n",
              "      background-color: #E2EBFA;\n",
              "      box-shadow: 0px 1px 2px rgba(60, 64, 67, 0.3), 0px 1px 3px 1px rgba(60, 64, 67, 0.15);\n",
              "      fill: #174EA6;\n",
              "    }\n",
              "\n",
              "    [theme=dark] .colab-df-convert {\n",
              "      background-color: #3B4455;\n",
              "      fill: #D2E3FC;\n",
              "    }\n",
              "\n",
              "    [theme=dark] .colab-df-convert:hover {\n",
              "      background-color: #434B5C;\n",
              "      box-shadow: 0px 1px 3px 1px rgba(0, 0, 0, 0.15);\n",
              "      filter: drop-shadow(0px 1px 2px rgba(0, 0, 0, 0.3));\n",
              "      fill: #FFFFFF;\n",
              "    }\n",
              "  </style>\n",
              "\n",
              "      <script>\n",
              "        const buttonEl =\n",
              "          document.querySelector('#df-3e05d783-b83e-48eb-99b9-f84efd4fb25f button.colab-df-convert');\n",
              "        buttonEl.style.display =\n",
              "          google.colab.kernel.accessAllowed ? 'block' : 'none';\n",
              "\n",
              "        async function convertToInteractive(key) {\n",
              "          const element = document.querySelector('#df-3e05d783-b83e-48eb-99b9-f84efd4fb25f');\n",
              "          const dataTable =\n",
              "            await google.colab.kernel.invokeFunction('convertToInteractive',\n",
              "                                                     [key], {});\n",
              "          if (!dataTable) return;\n",
              "\n",
              "          const docLinkHtml = 'Like what you see? Visit the ' +\n",
              "            '<a target=\"_blank\" href=https://colab.research.google.com/notebooks/data_table.ipynb>data table notebook</a>'\n",
              "            + ' to learn more about interactive tables.';\n",
              "          element.innerHTML = '';\n",
              "          dataTable['output_type'] = 'display_data';\n",
              "          await google.colab.output.renderOutput(dataTable, element);\n",
              "          const docLink = document.createElement('div');\n",
              "          docLink.innerHTML = docLinkHtml;\n",
              "          element.appendChild(docLink);\n",
              "        }\n",
              "      </script>\n",
              "    </div>\n",
              "  </div>\n",
              "  "
            ]
          },
          "metadata": {},
          "execution_count": 49
        }
      ]
    },
    {
      "cell_type": "markdown",
      "source": [
        "**EXPLANATION**\n",
        "- The Accuracy score is one of the metrics for evaluating the model since it measures the rate of the correct prediction which is a common metric used to evaluate the supervised model in the classification problem.\n",
        "- The confusion matrix displays the predictions including Type-I(False Positive) and Type-II(False Negative) errors.\n",
        "- The ROC curve is also plotted to illustrates the diagnostic ability of the binary classifier system.\n",
        "- The main metric used for comparison is recall since for the case of the prediction of the heart disease, we need to avoid the false negative error(predict those who is having a heart disease as NEGATIVE result).\n",
        "- According to the evaluation results, the Random Forest model is the most well-performed and achieved very high recall.\n",
        "- It is concluded that the Random Forest model has the best performance and would likely to be the best approach for predicting whether the patient is having a heart disease."
      ],
      "metadata": {
        "id": "C3Cp_NKfFhBJ"
      }
    },
    {
      "cell_type": "code",
      "source": [],
      "metadata": {
        "id": "IGwf_CYuBfg_"
      },
      "execution_count": null,
      "outputs": []
    }
  ]
}